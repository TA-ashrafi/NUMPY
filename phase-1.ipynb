{
 "cells": [
  {
   "cell_type": "markdown",
   "id": "10afee07",
   "metadata": {},
   "source": []
  },
  {
   "cell_type": "markdown",
   "id": "3b988016",
   "metadata": {},
   "source": [
    "##NUMPY"
   ]
  },
  {
   "cell_type": "code",
   "execution_count": 4,
   "id": "bbf11455",
   "metadata": {},
   "outputs": [],
   "source": [
    "import numpy as np"
   ]
  },
  {
   "cell_type": "code",
   "execution_count": null,
   "id": "1a91cb77",
   "metadata": {},
   "outputs": [
    {
     "name": "stdout",
     "output_type": "stream",
     "text": [
      "Numpy 1D Array [1 2 3 4 5 6]\n",
      "Numpy 2D Array [[1 2 3]\n",
      " [4 5 6]]\n",
      "Numpy 3D Array [[1 2 3]\n",
      " [4 5 6]\n",
      " [7 8 9]]\n"
     ]
    }
   ],
   "source": [
    "##CREATING ARRAY FROM LIST \n",
    "\n",
    "arr_1d = np.array([1,2,3,4,5,6])\n",
    "print(\"Numpy 1D Array\",arr_1d)\n",
    "\n",
    "arr_2d = np.array([[1,2,3] , [4,5,6]])\n",
    "print(\"Numpy 2D Array\",arr_2d)\n",
    "\n",
    "arr_3d = np.array([[1,2,3],[4,5,6],[7,8,9]])\n",
    "print(\"Numpy 3D Array\",arr_3d)"
   ]
  },
  {
   "cell_type": "code",
   "execution_count": 58,
   "id": "f7162ccf",
   "metadata": {},
   "outputs": [
    {
     "name": "stdout",
     "output_type": "stream",
     "text": [
      "Python List Multiplication :  [1, 2, 3, 4, 5, 1, 2, 3, 4, 5]\n",
      "Numpy Array Multiplication :  [ 2  4  6  8 10]\n"
     ]
    }
   ],
   "source": [
    "##LIST VS NUMPY ARRAY\n",
    "\n",
    "py_list = [1,2,3,4,5]\n",
    "print(\"Python List Multiplication : \" , py_list * 2)\n",
    "\n",
    "\n",
    "np_array = np.array([1,2,3,4,5])\n",
    "print(\"Numpy Array Multiplication : \" , np_array * 2)"
   ]
  },
  {
   "cell_type": "code",
   "execution_count": null,
   "id": "f2c72ffe",
   "metadata": {},
   "outputs": [
    {
     "name": "stdout",
     "output_type": "stream",
     "text": [
      "\n",
      " Python Operation time :  0.005999565124511719\n",
      "\n",
      " Numpy Operation time :  0.0\n"
     ]
    }
   ],
   "source": [
    "## LIST AND NUMPY DIFFRENSE TIME \n",
    "\n",
    "import time\n",
    "\n",
    "start = time.time()\n",
    "py_array = [i*2 for i in range(100000)]\n",
    "print(\"\\n Python Operation time : \",time.time() - start)\n",
    "\n",
    "\n",
    "start = time.time()\n",
    "np_array = np.arange(10000) * 2 \n",
    "print(\"\\n Numpy Operation time : \",time.time() - start)\n"
   ]
  },
  {
   "cell_type": "code",
   "execution_count": null,
   "id": "1b2cd892",
   "metadata": {},
   "outputs": [
    {
     "name": "stdout",
     "output_type": "stream",
     "text": [
      "\n",
      " ZEROS ARRAY \n",
      " [[0. 0. 0. 0. 0.]\n",
      " [0. 0. 0. 0. 0.]\n",
      " [0. 0. 0. 0. 0.]\n",
      " [0. 0. 0. 0. 0.]]\n",
      "\n",
      " ONES ARRAY\n",
      " [[1. 1. 1. 1. 1.]\n",
      " [1. 1. 1. 1. 1.]\n",
      " [1. 1. 1. 1. 1.]\n",
      " [1. 1. 1. 1. 1.]\n",
      " [1. 1. 1. 1. 1.]]\n",
      "\n",
      " FULL ARRAY \n",
      " [[8 8 8 8 8]\n",
      " [8 8 8 8 8]\n",
      " [8 8 8 8 8]\n",
      " [8 8 8 8 8]]\n",
      "\n",
      " RANDON ARRAY \n",
      " [[0.85810068 0.52154919 0.95717516 0.97277529 0.54502047]\n",
      " [0.47511016 0.36168742 0.63017402 0.26867397 0.1584083 ]\n",
      " [0.94701644 0.25172568 0.00130545 0.85632936 0.66899021]\n",
      " [0.67230676 0.79031191 0.8971928  0.57443051 0.80793582]\n",
      " [0.39451539 0.57170834 0.91735758 0.60809091 0.15703212]]\n",
      "\n",
      "SEQUENCE ARRAY \n",
      " [ 0  2  4  6  8 10 12 14 16 18]\n"
     ]
    }
   ],
   "source": [
    "##CREATING ARRAY FROM SCRATCH\n",
    "\n",
    "zeros = np.zeros([4,5])\n",
    "print(\"\\n ZEROS ARRAY \\n\",zeros)\n",
    "\n",
    "ones = np.ones([5,5])\n",
    "print(\"\\n ONES ARRAY\\n\" , ones)\n",
    "\n",
    "full = np.full([4,5],8)\n",
    "print(\"\\n FULL ARRAY \\n\" , full)\n",
    "\n",
    "random = np.random.random([5,5])\n",
    "print(\"\\n RANDON ARRAY \\n\" , random)\n",
    "\n",
    "sequence = np.arange(0,20,2)\n",
    "print(\"\\nSEQUENCE ARRAY \\n\" , sequence)"
   ]
  },
  {
   "cell_type": "code",
   "execution_count": null,
   "id": "10c12c23",
   "metadata": {},
   "outputs": [
    {
     "name": "stdout",
     "output_type": "stream",
     "text": [
      "\n",
      " VECTOR ARRAY \n",
      " [ 1  2  3  4  5  6  7  8  9 10]\n",
      "\n",
      " MATRIX ARRAY \n",
      " [[ 1  2  3  4  5]\n",
      " [ 6  7  8  9 10]]\n",
      "\n",
      " TENSOR ARRAY \n",
      " [[[1 2]\n",
      "  [3 4]]\n",
      "\n",
      " [[5 6]\n",
      "  [7 8]]]\n"
     ]
    }
   ],
   "source": [
    "## VECTOR , MATRIX  AND TENSOR ARRAY \n",
    "\n",
    "vector =np.array([1,2,3,4,5,6,7,8,9,10])\n",
    "print(\"\\n VECTOR ARRAY \\n\" , vector)\n",
    "\n",
    "matrix = np.array([[1,2,3,4,5],[6,7,8,9,10]])\n",
    "print(\"\\n MATRIX ARRAY \\n\" , matrix)\n",
    "\n",
    "tensor = np.array([[[1,2],[3,4]],\n",
    "                   [[5,6],[7,8]]])\n",
    "print(\"\\n TENSOR ARRAY \\n\" , tensor)\n"
   ]
  },
  {
   "cell_type": "code",
   "execution_count": null,
   "id": "4c185d54",
   "metadata": {},
   "outputs": [
    {
     "name": "stdout",
     "output_type": "stream",
     "text": [
      "SHAPE :  (2, 5)\n",
      "DIMENSION :  2\n",
      "Dtype :  int64\n",
      "SIZE :  10\n",
      "ITEM SIZE :  8\n",
      "DATA :  <memory at 0x0000020CCFD6A5A0>\n"
     ]
    }
   ],
   "source": [
    "## ARRAY PROPERTIES\n",
    "\n",
    "arr = np.array([[1,2,3,4,5],\n",
    "                [6,7,8,9,10]])\n",
    "\n",
    "print(\"SHAPE : \", arr.shape)\n",
    "print(\"DIMENSION : \", arr.ndim)\n",
    "print(\"Dtype : \" , arr.dtype)\n",
    "print(\"SIZE : \",arr.size)\n",
    "print(\"ITEM SIZE : \" , arr.itemsize)\n",
    "print(\"DATA : \", arr.data)"
   ]
  },
  {
   "cell_type": "code",
   "execution_count": null,
   "id": "f59325a9",
   "metadata": {},
   "outputs": [
    {
     "name": "stdout",
     "output_type": "stream",
     "text": [
      "\n",
      " ORIGNAL ARRAY :  [ 0  1  2  3  4  5  6  7  8  9 10 11]\n",
      "\n",
      " RESHAPED ARRAY :  [[ 0  1  2  3]\n",
      " [ 4  5  6  7]\n",
      " [ 8  9 10 11]]\n",
      "\n",
      " FLATTENED ARRAY :  [ 0  1  2  3  4  5  6  7  8  9 10 11]\n",
      "\n",
      " RAVEL ARRAY :  [ 0  1  2  3  4  5  6  7  8  9 10 11]\n",
      "\n",
      " TRANSPOSED ARRAY :  [[ 0  4  8]\n",
      " [ 1  5  9]\n",
      " [ 2  6 10]\n",
      " [ 3  7 11]]\n"
     ]
    }
   ],
   "source": [
    "##ARRAY RESHAPING\n",
    "\n",
    "arr = np.arange(12)\n",
    "print(\"\\n ORIGNAL ARRAY : \" , arr)\n",
    "\n",
    "reshaped = arr.reshape((3,4))\n",
    "print(\"\\n RESHAPED ARRAY : \" , reshaped)\n",
    "\n",
    "Flattend = arr.flatten()\n",
    "print(\"\\n FLATTENED ARRAY : \" , Flattend)\n",
    "\n",
    "ravel = reshaped.ravel()\n",
    "print(\"\\n RAVEL ARRAY : \" , ravel)\n",
    "\n",
    "transpose = reshaped.T\n",
    "print(\"\\n TRANSPOSED ARRAY : \", transpose)"
   ]
  }
 ],
 "metadata": {
  "kernelspec": {
   "display_name": "venv",
   "language": "python",
   "name": "python3"
  },
  "language_info": {
   "codemirror_mode": {
    "name": "ipython",
    "version": 3
   },
   "file_extension": ".py",
   "mimetype": "text/x-python",
   "name": "python",
   "nbconvert_exporter": "python",
   "pygments_lexer": "ipython3",
   "version": "3.10.9"
  }
 },
 "nbformat": 4,
 "nbformat_minor": 5
}
