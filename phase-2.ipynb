{
 "cells": [
  {
   "cell_type": "markdown",
   "id": "c4be326c",
   "metadata": {},
   "source": [
    "NUMPY ARRAY OPERATION"
   ]
  },
  {
   "cell_type": "code",
   "execution_count": 2,
   "id": "6ad8a7c7",
   "metadata": {},
   "outputs": [],
   "source": [
    "import numpy as np"
   ]
  },
  {
   "cell_type": "code",
   "execution_count": 18,
   "id": "4e85c62b",
   "metadata": {},
   "outputs": [
    {
     "name": "stdout",
     "output_type": "stream",
     "text": [
      "\n",
      "BASIC SLICING :  [3 4 5 6]\n",
      "\n",
      "WITH STEPS :  [2 4 6 8]\n",
      "\n",
      "NEGATIVE INDEXING :  18\n"
     ]
    }
   ],
   "source": [
    "arr = np.array([1,2,3,4,5,6,7,8,9,10,11,12,13,14,15,16,17,18,19,20])\n",
    "print(\"\\nBASIC SLICING : \" ,arr[2:6])\n",
    "print(\"\\nWITH STEPS : \" , arr[1:8:2])\n",
    "print(\"\\nNEGATIVE INDEXING : \", arr[-3])\n"
   ]
  },
  {
   "cell_type": "code",
   "execution_count": 3,
   "id": "3f64f90d",
   "metadata": {},
   "outputs": [
    {
     "name": "stdout",
     "output_type": "stream",
     "text": [
      "\n",
      "SPECIFIC ELEMENT :  6\n",
      "\n",
      "ENTIRE ROW :  [4 5 6]\n",
      "\n",
      "ENTIRE COLUMN :  [2 5 8]\n"
     ]
    }
   ],
   "source": [
    "arr_2d = np.array([[1, 2, 3],\n",
    "                   [4, 5, 6],\n",
    "                   [7, 8, 9]])\n",
    "print(\"\\nSPECIFIC ELEMENT : \",arr_2d[1,2])\n",
    "print(\"\\nENTIRE ROW : \" , arr_2d[1])\n",
    "print(\"\\nENTIRE COLUMN : \", arr_2d[: , 1])\n"
   ]
  },
  {
   "cell_type": "code",
   "execution_count": 12,
   "id": "6e317bc6",
   "metadata": {},
   "outputs": [
    {
     "name": "stdout",
     "output_type": "stream",
     "text": [
      "\n",
      " SORTED ARRAY :  [1 1 2 3 4 5 5 6 7 9]\n",
      "\n",
      " 2D ARRAY COLOUMN WISE SORTING :  [[1 3]\n",
      " [1 3]\n",
      " [2 4]]\n",
      "\n",
      " 2D ARRAY ROW WISE SORTING :  [[1 4]\n",
      " [1 3]\n",
      " [2 3]]\n"
     ]
    }
   ],
   "source": [
    "unsorted = np.array([1,5,9,5,3,4,1,2,6,7])\n",
    "print(\"\\n SORTED ARRAY : \",np.sort(unsorted))\n",
    "\n",
    "arr_2d = np.array([[1,4],\n",
    "                   [1,3],\n",
    "                   [2,3]])\n",
    "print(\"\\n 2D ARRAY COLOUMN WISE SORTING : \" , np.sort(arr_2d , axis=0))\n",
    "print(\"\\n 2D ARRAY ROW WISE SORTING : \" , np.sort(arr_2d , axis=1))\n",
    "\n"
   ]
  },
  {
   "cell_type": "code",
   "execution_count": 15,
   "id": "efa1a70c",
   "metadata": {},
   "outputs": [
    {
     "name": "stdout",
     "output_type": "stream",
     "text": [
      "\n",
      " EVEN NUMBERS  [ 2  4  6  8 10]\n"
     ]
    }
   ],
   "source": [
    "arr = np.array([1,2,3,4,5,6,7,8,9,10])\n",
    "even_number = arr[arr % 2 == 0]\n",
    "print(\"\\n EVEN NUMBERS \" ,even_number)"
   ]
  },
  {
   "cell_type": "code",
   "execution_count": 19,
   "id": "8f67ec7c",
   "metadata": {},
   "outputs": [
    {
     "name": "stdout",
     "output_type": "stream",
     "text": [
      "\n",
      " GREATE THAN 5 :  [ 6  7  8  9 10]\n"
     ]
    }
   ],
   "source": [
    "arr_mask = np.array([1,2,3,4,5,6,7,8,9,10])\n",
    "mask = arr_mask > 5\n",
    "print(\"\\n GREATE THAN 5 : \", arr_mask[mask])"
   ]
  },
  {
   "cell_type": "code",
   "execution_count": 24,
   "id": "1c0aef1e",
   "metadata": {},
   "outputs": [
    {
     "name": "stdout",
     "output_type": "stream",
     "text": [
      "\n",
      " INDICES ARRAY :  [1 3 5]\n",
      "\n",
      " WHERE RESSULT :  [ 6  8  9 10]\n"
     ]
    }
   ],
   "source": [
    "ind_arr = np.array([1,2,3,4,5,6,8,9,10])\n",
    "indices = [0,2,4]\n",
    "print(\"\\n INDICES ARRAY : \" ,ind_arr[indices])\n",
    "\n",
    "where_res = np.where(ind_arr > 5)\n",
    "print(\"\\n WHERE RESSULT : \", ind_arr[where_res])"
   ]
  },
  {
   "cell_type": "code",
   "execution_count": 27,
   "id": "0f241a03",
   "metadata": {},
   "outputs": [
    {
     "name": "stdout",
     "output_type": "stream",
     "text": [
      "\n",
      " CONDITION ARRAY :  [ 1  2  3  4  5 12 14 16 18 20]\n"
     ]
    }
   ],
   "source": [
    "cond_arr = np.array([1,2,3,4,5,6,7,8,9,10])\n",
    "conditon_arr = np.where(cond_arr > 5 , cond_arr*2 , cond_arr)\n",
    "print(\"\\n CONDITION ARRAY : \" , conditon_arr)"
   ]
  },
  {
   "cell_type": "code",
   "execution_count": 33,
   "id": "549e4125",
   "metadata": {},
   "outputs": [
    {
     "name": "stdout",
     "output_type": "stream",
     "text": [
      "\n",
      " ADDIND 2 ARRAYS :  [ 7  9 11 13 15]\n",
      "\n",
      " COMBINING 2 ARRAYS :  [ 1  2  3  4  5  6  7  8  9 10]\n"
     ]
    }
   ],
   "source": [
    "arr_1 = np.array([1,2,3,4,5])\n",
    "arr_2 = np.array([6,7,8,9,10])\n",
    "\n",
    "add_arr = arr_1 + arr_2\n",
    "print(\"\\n ADDIND 2 ARRAYS : \" , add_arr)\n",
    "print(\"\\n COMBINING 2 ARRAYS : \", np.concatenate((arr_1 ,arr_2 )))"
   ]
  },
  {
   "cell_type": "code",
   "execution_count": 37,
   "id": "549e26f8",
   "metadata": {},
   "outputs": [
    {
     "name": "stdout",
     "output_type": "stream",
     "text": [
      "\n",
      " WITH NEW ROW \n",
      "  [[1 2 3]\n",
      " [4 5 6]\n",
      " [7 8 9]]\n",
      "\n",
      " WITH NEW COLUN \n",
      "  [ 1  2  3  4  5  6  7  8  9 10]\n"
     ]
    }
   ],
   "source": [
    "arr_2d = np.array([[1,2,3],\n",
    "                   [4,5,6]])\n",
    "new_row= np.array([7,8,9])\n",
    "print(\"\\n WITH NEW ROW \\n \", np.vstack((arr_2d , new_row)))\n",
    "\n",
    "\n",
    "arr_1d = np.array([1,2,3,4,5])\n",
    "new_col = np.array([6,7,8,9,10])\n",
    "print(\"\\n WITH NEW COLUN \\n \", np.hstack((arr_1d , new_col)))"
   ]
  },
  {
   "cell_type": "code",
   "execution_count": 41,
   "id": "0fe9458b",
   "metadata": {},
   "outputs": [
    {
     "name": "stdout",
     "output_type": "stream",
     "text": [
      "\n",
      " ARRAY BEFORE DELETION :  [ 1  2  3  4  5  6  7  8  9 10]\n",
      "\n",
      " ARRAY AFTER DELETION :  [ 1  2  4  5  6  7  8  9 10]\n"
     ]
    }
   ],
   "source": [
    "arr_1 = np.array([1,2,3,4,5,6,7,8,9,10])\n",
    "deleted = np.delete(arr_1 , 2)\n",
    "print(\"\\n ARRAY BEFORE DELETION : \" , arr_1)\n",
    "print(\"\\n ARRAY AFTER DELETION : \" , deleted)"
   ]
  }
 ],
 "metadata": {
  "kernelspec": {
   "display_name": "venv",
   "language": "python",
   "name": "python3"
  },
  "language_info": {
   "codemirror_mode": {
    "name": "ipython",
    "version": 3
   },
   "file_extension": ".py",
   "mimetype": "text/x-python",
   "name": "python",
   "nbconvert_exporter": "python",
   "pygments_lexer": "ipython3",
   "version": "3.10.9"
  }
 },
 "nbformat": 4,
 "nbformat_minor": 5
}
